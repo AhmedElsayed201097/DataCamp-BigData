{
 "cells": [
  {
   "cell_type": "markdown",
   "metadata": {},
   "source": [
    "## Data cleaning review\n",
    "There are many benefits for using Spark for data cleaning.\n",
    "\n",
    "Spark offers high performance.\n",
    "\n",
    "Spark allows orderly data flows.\n",
    "\n",
    "Spark can use strictly defined schemas while ingesting data.\n",
    "\n"
   ]
  },
  {
   "cell_type": "markdown",
   "metadata": {},
   "source": [
    "## Defining a schema\n",
    "Creating a defined schema helps with data quality and import performance. As mentioned during the lesson, we'll create a simple schema to read in the following columns:\n",
    "\n",
    "Name\n",
    "Age\n",
    "City\n",
    "The Name and City columns are StringType() and the Age column is an IntegerType()."
   ]
  },
  {
   "cell_type": "code",
   "execution_count": 1,
   "metadata": {},
   "outputs": [],
   "source": [
    "# Import the pyspark.sql.types library\n",
    "from pyspark.sql.types import *\n",
    "\n",
    "# Define a new schema using the StructType method\n",
    "people_schema = StructType([\n",
    "  # Define a StructField for each field\n",
    "  StructField('name',StringType(), False),\n",
    "  StructField('age', IntegerType(), False),\n",
    "  StructField(\"city\",StringType(), False)\n",
    "])"
   ]
  },
  {
   "cell_type": "markdown",
   "metadata": {},
   "source": [
    "## Immutability review\n",
    "You’ve just seen that immutability and lazy processing are fundamental concepts in the way Spark handles data. But why would Spark use immutable data frames to begin with?\n",
    "\n",
    "To efficiently handle data throughout the cluster"
   ]
  },
  {
   "cell_type": "markdown",
   "metadata": {},
   "source": [
    "## Using lazy processing\n",
    "Lazy processing operations will usually return in about the same amount of time regardless of the actual quantity of data. Remember that this is due to Spark not performing any transformations until an action is requested.\n",
    "\n",
    "For this exercise, we'll be defining a Data Frame (aa_dfw_df) and add a couple transformations. Note the amount of time required for the transformations to complete when defined vs when the data is actually queried. These differences may be short, but they will be noticeable. When working with a full Spark cluster with larger quantities of data the difference will be more apparent."
   ]
  },
  {
   "cell_type": "code",
   "execution_count": 9,
   "metadata": {},
   "outputs": [
    {
     "name": "stdout",
     "output_type": "stream",
     "text": [
      "+-----------------+-------------+-----------------------------+-------+\n",
      "|Date (MM/DD/YYYY)|Flight Number|Actual elapsed time (Minutes)|airport|\n",
      "+-----------------+-------------+-----------------------------+-------+\n",
      "|       01/01/2014|         0005|                          519|    hnl|\n",
      "|       01/01/2014|         0007|                          505|    ogg|\n",
      "|       01/01/2014|         0035|                          174|    slc|\n",
      "|       01/01/2014|         0043|                          153|    dtw|\n",
      "|       01/01/2014|         0052|                          137|    pit|\n",
      "|       01/01/2014|         0058|                          174|    san|\n",
      "|       01/01/2014|         0060|                          155|    mia|\n",
      "|       01/01/2014|         0064|                          185|    jfk|\n",
      "|       01/01/2014|         0090|                          126|    ord|\n",
      "|       01/01/2014|         0096|                           91|    stl|\n",
      "|       01/01/2014|         0099|                          182|    sna|\n",
      "|       01/01/2014|         0103|                          181|    ont|\n",
      "|       01/01/2014|         0109|                          127|    den|\n",
      "|       01/01/2014|         0122|                          222|    sfo|\n",
      "|       01/01/2014|         0123|                          510|    hnl|\n",
      "|       01/01/2014|         0129|                          114|    cos|\n",
      "|       01/01/2014|         0130|                          141|    dca|\n",
      "|       01/01/2014|         0131|                          167|    slc|\n",
      "|       01/01/2014|         0132|                           82|    stl|\n",
      "|       01/01/2014|         0140|                          146|    bwi|\n",
      "+-----------------+-------------+-----------------------------+-------+\n",
      "only showing top 20 rows\n",
      "\n"
     ]
    }
   ],
   "source": [
    "import pyspark.sql.functions as F\n",
    "# Load the CSV file\n",
    "aa_dfw_df = spark.read.format('csv').options(Header=True).load('AA_DFW_2014_Departures_Short.csv.gz')\n",
    "\n",
    "# Add the airport column using the F.lower() method\n",
    "aa_dfw_df = aa_dfw_df.withColumn('airport', F.lower(aa_dfw_df['Destination Airport']))\n",
    "\n",
    "# Drop the Destination Airport column\n",
    "aa_dfw_df = aa_dfw_df.drop(aa_dfw_df['Destination Airport'])\n",
    "\n",
    "# Show the DataFrame\n",
    "aa_dfw_df.show()"
   ]
  },
  {
   "cell_type": "code",
   "execution_count": 8,
   "metadata": {},
   "outputs": [
    {
     "name": "stdout",
     "output_type": "stream",
     "text": [
      "+----------+------------------+-----------+--------+-------------+-------------------+---------+------------------+-----------------------+------------------+--------------------+\n",
      "|      DATE|AGENDA_ITEM_NUMBER|  ITEM_TYPE|DISTRICT|        TITLE|         VOTER NAME|VOTE CAST|FINAL ACTION TAKEN|AGENDA ITEM DESCRIPTION|         AGENDA_ID|             VOTE_ID|\n",
      "+----------+------------------+-----------+--------+-------------+-------------------+---------+------------------+-----------------------+------------------+--------------------+\n",
      "|02/08/2017|                 1|     AGENDA|      13|Councilmember|  Jennifer S. Gates|      N/A|  NO ACTION NEEDED|          Call to Order|020817__Special__1|020817__Special__...|\n",
      "|02/08/2017|                 1|     AGENDA|      14|Councilmember| Philip T. Kingston|      N/A|  NO ACTION NEEDED|          Call to Order|020817__Special__1|020817__Special__...|\n",
      "|02/08/2017|                 1|     AGENDA|      15|        Mayor|Michael S. Rawlings|      N/A|  NO ACTION NEEDED|          Call to Order|020817__Special__1|020817__Special__...|\n",
      "|02/08/2017|                 1|     AGENDA|       2|Councilmember|       Adam Medrano|      N/A|  NO ACTION NEEDED|          Call to Order|020817__Special__1|020817__Special__1_2|\n",
      "|02/08/2017|                 1|     AGENDA|       3|Councilmember|   Casey Thomas, II|      N/A|  NO ACTION NEEDED|          Call to Order|020817__Special__1|020817__Special__1_3|\n",
      "|02/08/2017|                 1|     AGENDA|       4|Councilmember|Carolyn King Arnold|      N/A|  NO ACTION NEEDED|          Call to Order|020817__Special__1|020817__Special__1_4|\n",
      "|02/08/2017|                 4|AGENDA DATE|       1|Councilmember|       Scott Griggs|      YES|          APPROVED|   Authorize a three...|         020817__4|         020817__4_1|\n",
      "|02/08/2017|                 4|AGENDA DATE|      10|Councilmember|   B. Adam  McGough|      YES|          APPROVED|   Authorize a three...|         020817__4|        020817__4_10|\n",
      "|02/08/2017|                 4|AGENDA DATE|      11|Councilmember|       Lee Kleinman|      YES|          APPROVED|   Authorize a three...|         020817__4|        020817__4_11|\n",
      "|02/08/2017|                 4|AGENDA DATE|      12|Councilmember|      Sandy Greyson|      YES|          APPROVED|   Authorize a three...|         020817__4|        020817__4_12|\n",
      "|02/08/2017|                 4|AGENDA DATE|      13|Councilmember|  Jennifer S. Gates|      YES|          APPROVED|   Authorize a three...|         020817__4|        020817__4_13|\n",
      "|02/08/2017|                 4|AGENDA DATE|      14|Councilmember| Philip T. Kingston|      YES|          APPROVED|   Authorize a three...|         020817__4|        020817__4_14|\n",
      "|02/08/2017|                 4|AGENDA DATE|      15|        Mayor|Michael S. Rawlings|      YES|          APPROVED|   Authorize a three...|         020817__4|        020817__4_15|\n",
      "|02/08/2017|                 4|AGENDA DATE|       2|Councilmember|       Adam Medrano|      YES|          APPROVED|   Authorize a three...|         020817__4|         020817__4_2|\n",
      "|02/08/2017|                 4|AGENDA DATE|       3|Councilmember|   Casey Thomas, II|      YES|          APPROVED|   Authorize a three...|         020817__4|         020817__4_3|\n",
      "|02/08/2017|                 4|AGENDA DATE|       4|Councilmember|Carolyn King Arnold|      YES|          APPROVED|   Authorize a three...|         020817__4|         020817__4_4|\n",
      "|02/08/2017|                 4|AGENDA DATE|       5|Councilmember| Rickey D. Callahan|      YES|          APPROVED|   Authorize a three...|         020817__4|         020817__4_5|\n",
      "|01/11/2017|                 1|AGENDA DATE|      13|Councilmember|  Jennifer S. Gates|      YES|          APPROVED|   Approval of Minut...|         011117__1|        011117__1_13|\n",
      "|04/25/2018|                 1|AGENDA DATE|      12|Councilmember|     Sandy  Greyson|      YES|          APPROVED|   Approval of Minut...|         042518__1|        042518__1_12|\n",
      "|04/25/2018|                 1|AGENDA DATE|      13|Councilmember| Jennifer S.  Gates|      YES|          APPROVED|   Approval of Minut...|         042518__1|        042518__1_13|\n",
      "+----------+------------------+-----------+--------+-------------+-------------------+---------+------------------+-----------------------+------------------+--------------------+\n",
      "only showing top 20 rows\n",
      "\n"
     ]
    }
   ],
   "source": []
  },
  {
   "cell_type": "markdown",
   "metadata": {},
   "source": [
    "## Saving a DataFrame in Parquet format\n",
    "When working with Spark, you'll often start with CSV, JSON, or other data sources. This provides a lot of flexibility for the types of data to load, but it is not an optimal format for Spark. The Parquet format is a columnar data store, allowing Spark to use predicate pushdown. This means Spark will only process the data necessary to complete the operations you define versus reading the entire dataset. This gives Spark more flexibility in accessing the data and often drastically improves performance on large datasets.\n",
    "\n",
    "In this exercise, we're going to practice creating a new Parquet file and then process some data from it.\n",
    "\n",
    "The spark object and the df1 and df2 DataFrames have been setup for you."
   ]
  },
  {
   "cell_type": "code",
   "execution_count": null,
   "metadata": {},
   "outputs": [],
   "source": [
    "# View the row count of df1 and df2\n",
    "print(\"df1 Count: %d\" % df1.count())\n",
    "print(\"df2 Count: %d\" %df2.count())\n",
    "\n",
    "# Combine the DataFrames into one\n",
    "df3 = df1.union(df2)\n",
    "\n",
    "# Save the df3 DataFrame in Parquet format\n",
    "df3.write.parquet('AA_DFW_ALL.parquet', mode='overwrite')\n",
    "\n",
    "# Read the Parquet file into a new DataFrame and run a count\n",
    "print(spark.read.parquet('AA_DFW_ALL.parquet').count())"
   ]
  },
  {
   "cell_type": "markdown",
   "metadata": {},
   "source": [
    "## SQL and Parquet\n",
    "Parquet files are perfect as a backing data store for SQL queries in Spark. While it is possible to run the same queries directly via Spark's Python functions, sometimes it's easier to run SQL queries alongside the Python options.\n",
    "\n",
    "For this example, we're going to read in the Parquet file we created in the last exercise and register it as a SQL table. Once registered, we'll run a quick query against the table (aka, the Parquet file).\n",
    "\n",
    "The spark object and the AA_DFW_ALL.parquet file are available for you automatically."
   ]
  },
  {
   "cell_type": "code",
   "execution_count": null,
   "metadata": {},
   "outputs": [],
   "source": [
    "# Read the Parquet file into flights_df\n",
    "flights_df = spark.read.parquet(\"AA_DFW_ALL.parquet\")\n",
    "\n",
    "# Register the temp table\n",
    "flights_df.createOrReplaceTempView('flights')\n",
    "\n",
    "# Run a SQL query of the average flight duration\n",
    "avg_duration = spark.sql('SELECT avg(flight_duration) from flights').collect()[0]\n",
    "print('The average flight time is: %d' % avg_duration)"
   ]
  },
  {
   "cell_type": "code",
   "execution_count": null,
   "metadata": {},
   "outputs": [],
   "source": []
  }
 ],
 "metadata": {
  "kernelspec": {
   "display_name": "Python 3",
   "language": "python",
   "name": "python3"
  },
  "language_info": {
   "codemirror_mode": {
    "name": "ipython",
    "version": 3
   },
   "file_extension": ".py",
   "mimetype": "text/x-python",
   "name": "python",
   "nbconvert_exporter": "python",
   "pygments_lexer": "ipython3",
   "version": "3.7.6"
  }
 },
 "nbformat": 4,
 "nbformat_minor": 4
}
