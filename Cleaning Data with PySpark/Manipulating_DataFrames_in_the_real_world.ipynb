{
  "nbformat": 4,
  "nbformat_minor": 0,
  "metadata": {
    "kernelspec": {
      "display_name": "Python 3",
      "language": "python",
      "name": "python3"
    },
    "language_info": {
      "codemirror_mode": {
        "name": "ipython",
        "version": 3
      },
      "file_extension": ".py",
      "mimetype": "text/x-python",
      "name": "python",
      "nbconvert_exporter": "python",
      "pygments_lexer": "ipython3",
      "version": "3.7.6"
    },
    "colab": {
      "name": "Manipulating DataFrames in the real world.ipynb",
      "provenance": []
    }
  },
  "cells": [
    {
      "cell_type": "code",
      "metadata": {
        "id": "bEchXS8dgdeU",
        "colab_type": "code",
        "colab": {},
        "outputId": "dc91e51d-6df0-473f-9a1e-9be05fe2c53f"
      },
      "source": [
        "from pyspark.sql.functions import *\n",
        "dataDF = spark.createDataFrame([(66, \"a\", \"4\"), \n",
        "                                (67, \"a\", \"0\"), \n",
        "                                (70, \"b\", \"4\"), \n",
        "                                (71, \"d\", \"4\")],\n",
        "                                (\"id\", \"code\", \"amt\"))\n",
        "dataDF.withColumn(\"new_column\",\n",
        "       when((col(\"code\") == \"a\") | (col(\"code\") == \"d\"), \"A\")\n",
        "      .when((col(\"code\") == \"b\") & (col(\"amt\") == \"4\"), \"B\")\n",
        "      .otherwise(\"A1\")).show()"
      ],
      "execution_count": 0,
      "outputs": [
        {
          "output_type": "stream",
          "text": [
            "+---+----+---+----------+\n",
            "| id|code|amt|new_column|\n",
            "+---+----+---+----------+\n",
            "| 66|   a|  4|         A|\n",
            "| 67|   a|  0|         A|\n",
            "| 70|   b|  4|         B|\n",
            "| 71|   d|  4|         A|\n",
            "+---+----+---+----------+\n",
            "\n"
          ],
          "name": "stdout"
        }
      ]
    },
    {
      "cell_type": "markdown",
      "metadata": {
        "id": "jbjrmQNtgdeh",
        "colab_type": "text"
      },
      "source": [
        "## Filtering column content with Python\n",
        "You've looked at using various operations on DataFrame columns - now you can modify a real dataset. The DataFrame voter_df contains information regarding the voters on the Dallas City Council from the past few years. This truncated DataFrame contains the date of the vote being cast and the name and position of the voter. Your manager has asked you to clean this data so it can later be integrated into some desired reports. The primary task is to remove any null entries or odd characters and return a specific set of voters where you can validate their information.\n",
        "\n",
        "This is often one of the first steps in data cleaning - removing anything that is obviously outside the format. For this dataset, make sure to look at the original data and see what looks out of place for the VOTER_NAME column.\n",
        "\n",
        "The pyspark.sql.functions library is already imported under the alias F"
      ]
    },
    {
      "cell_type": "code",
      "metadata": {
        "id": "sa8pvlCkgdei",
        "colab_type": "code",
        "colab": {}
      },
      "source": [
        "# Show the distinct VOTER_NAME entries\n",
        "voter_df.select(\"VOTER_NAME\").distinct().show(40, truncate=False)\n",
        "\n",
        "# Filter voter_df where the VOTER_NAME is 1-20 characters in length\n",
        "voter_df = voter_df.filter('length(VOTER_NAME) > 0 and length(VOTER_NAME) < 20')\n",
        "\n",
        "# Filter out voter_df where the VOTER_NAME contains an underscore\n",
        "voter_df = voter_df.filter(~ F.col('VOTER_NAME').contains('_'))\n",
        "\n",
        "# Show the distinct VOTER_NAME entries again\n",
        "voter_df.select(\"VOTER_NAME\").distinct().show(40, truncate=False)"
      ],
      "execution_count": 0,
      "outputs": []
    },
    {
      "cell_type": "markdown",
      "metadata": {
        "id": "r-ct3wSmgder",
        "colab_type": "text"
      },
      "source": [
        "## Modifying DataFrame columns\n",
        "Previously, you filtered out any rows that didn't conform to something generally resembling a name. Now based on your earlier work, your manager has asked you to create two new columns - first_name and last_name. She asks you to split the VOTER_NAME column into words on any space character. You'll treat the last word as the last_name, and all other words as the first_name. You'll be using some new functions in this exercise including .split(), .size(), and .getItem(). The .getItem(index) takes an integer value to return the appropriately numbered item in the column. The functions .split() and .size() are in the pyspark.sql.functions library.\n",
        "\n",
        "Please note that these operations are always somewhat specific to the use case. Having your data conform to a format often matters more than the specific details of the format. Rarely is a data cleaning task meant just for one person - matching a defined format allows for easier sharing of the data later (ie, Paul doesn't need to worry about names - Mary already cleaned the dataset).\n",
        "\n",
        "The filtered voter DataFrame from your previous exercise is available as voter_df. The pyspark.sql.functions library is available under the alias F."
      ]
    },
    {
      "cell_type": "code",
      "metadata": {
        "id": "XfTZFdA4gdes",
        "colab_type": "code",
        "colab": {}
      },
      "source": [
        "# Add a new column called splits separated on whitespace\n",
        "voter_df=voter_df.withColumn(\"splits\",F.split('VOTER_NAME','\\s+'))\n",
        "\n",
        "# Create a new column called first_name based on the first item in splits\n",
        "voter_df=voter_df.withColumn(\"first_name\",voter_df.splits.getItem(0))\n",
        "\n",
        "# Get the last entry of the splits list and create a column called last_name\n",
        "\n",
        "voter_df=voter_df.withColumn(\"last_name\",voter_df.splits.getItem(F.size(\"splits\")-1))\n",
        "# Drop the splits column\n",
        "voter_df=voter_df.drop(\"splits\")\n",
        "\n",
        "# Show the voter_df DataFrame\n",
        "voter_df.show()"
      ],
      "execution_count": 0,
      "outputs": []
    },
    {
      "cell_type": "markdown",
      "metadata": {
        "id": "wssPAIScgdez",
        "colab_type": "text"
      },
      "source": [
        "## when() example\n",
        "The when() clause lets you conditionally modify a Data Frame based on its content. You'll want to modify our voter_df DataFrame to add a random number to any voting member that is defined as a \"Councilmember\".\n",
        "\n",
        "The voter_df DataFrame is defined and available to you. The pyspark.sql.functions library is available as F. You can use F.rand() to generate the random value."
      ]
    },
    {
      "cell_type": "code",
      "metadata": {
        "id": "RvEN8leDgde0",
        "colab_type": "code",
        "colab": {}
      },
      "source": [
        "# Add a column to voter_df for any voter with the title **Councilmember**\n",
        "voter_df = voter_df.withColumn('random_val',\n",
        "                               F.when(voter_df.TITLE==\"Councilmember\", F.rand()))\n",
        "\n",
        "# Show some of the DataFrame rows, noting whether the when clause worked\n",
        "voter_df.show()"
      ],
      "execution_count": 0,
      "outputs": []
    },
    {
      "cell_type": "markdown",
      "metadata": {
        "id": "cz8cdwa8gde7",
        "colab_type": "text"
      },
      "source": [
        "## When / Otherwise\n",
        "This requirement is similar to the last, but now you want to add multiple values based on the voter's position. Modify your voter_df DataFrame to add a random number to any voting member that is defined as a Councilmember. Use 2 for the Mayor and 0 for anything other position.\n",
        "\n",
        "The voter_df Data Frame is defined and available to you. The pyspark.sql.functions library is available as F. You can use F.rand() to generate the random value."
      ]
    },
    {
      "cell_type": "code",
      "metadata": {
        "id": "H7UqX_xDgde8",
        "colab_type": "code",
        "colab": {}
      },
      "source": [
        "# Add a column to voter_df for a voter based on their position\n",
        "voter_df = voter_df.withColumn('random_val',\n",
        "                               when(voter_df.TITLE == 'Councilmember', F.rand())\n",
        "                               .when(voter_df.TITLE =='Mayor', 2)\n",
        "                               .otherwise(0))\n",
        "\n",
        "# Show some of the DataFrame rows\n",
        "voter_df.show()\n",
        "\n",
        "# Use the .filter() clause with random_val\n",
        "voter_df.filter(voter_df.random_val==0).show()"
      ],
      "execution_count": 0,
      "outputs": []
    },
    {
      "cell_type": "markdown",
      "metadata": {
        "id": "k0S_wdQGgu7E",
        "colab_type": "text"
      },
      "source": [
        "## Using user defined functions in Spark\n",
        "You've seen some of the power behind Spark's built-in string functions when it comes to manipulating DataFrames. However, once you reach a certain point, it becomes difficult to process the data in a without creating a rat's nest of function calls. Here's one place where you can use User Defined Functions to manipulate our DataFrames.\n",
        "\n",
        "For this exercise, we'll use our voter_df DataFrame, but you're going to replace the first_name column with the first and middle names.\n",
        "\n",
        "The pyspark.sql.functions library is available under the alias F. The classes from pyspark.sql.types are already imported."
      ]
    },
    {
      "cell_type": "code",
      "metadata": {
        "id": "6LDkijx9gwXj",
        "colab_type": "code",
        "colab": {}
      },
      "source": [
        "def getFirstAndMiddle(names):\n",
        "  # Return a space separated string of names\n",
        "  return ' '.join(names[:-1])\n",
        "\n",
        "# Define the method as a UDF\n",
        "udfFirstAndMiddle = F.udf(getFirstAndMiddle, StringType())\n",
        "\n",
        "# Create a new column using your UDF\n",
        "voter_df = voter_df.withColumn('first_and_middle_name', udfFirstAndMiddle('splits'))\n",
        "\n",
        "# Show the DataFrame\n",
        "voter_df.show()"
      ],
      "execution_count": 0,
      "outputs": []
    },
    {
      "cell_type": "markdown",
      "metadata": {
        "id": "gWkidExvgyUi",
        "colab_type": "text"
      },
      "source": [
        "## Adding an ID Field\n",
        "When working with data, you sometimes only want to access certain fields and perform various operations. In this case, find all the unique voter names from the DataFrame and add a unique ID number. Remember that Spark IDs are assigned based on the DataFrame partition - as such the ID values may be much greater than the actual number of rows in the DataFrame.\n",
        "\n",
        "With Spark's lazy processing, the IDs are not actually generated until an action is performed and can be somewhat random depending on the size of the dataset.\n",
        "\n",
        "The spark session and a Spark DataFrame df containing the DallasCouncilVotes.csv.gz file are available in your workspace. The pyspark.sql.functions library is available under the alias F."
      ]
    },
    {
      "cell_type": "code",
      "metadata": {
        "id": "BUv0IYAhg2Zt",
        "colab_type": "code",
        "colab": {}
      },
      "source": [
        "# Select all the unique council voters\n",
        "voter_df = df.select(df[\"VOTER NAME\"]).distinct()\n",
        "\n",
        "# Count the rows in voter_df\n",
        "print(\"\\nThere are %d rows in the voter_df DataFrame.\\n\" % voter_df.count())\n",
        "\n",
        "# Add a ROW_ID\n",
        "voter_df = voter_df.withColumn('ROW_ID', F.monotonically_increasing_id())\n",
        "\n",
        "# Show the rows with 10 highest IDs in the set\n",
        "voter_df.orderBy(voter_df.ROW_ID.desc()).show(10)"
      ],
      "execution_count": 0,
      "outputs": []
    },
    {
      "cell_type": "markdown",
      "metadata": {
        "id": "jfSA66YMhBN7",
        "colab_type": "text"
      },
      "source": [
        "## IDs with different partitions\n",
        "You've just completed adding an ID field to a DataFrame. Now, take a look at what happens when you do the same thing on DataFrames containing a different number of partitions.\n",
        "\n",
        "To check the number of partitions, use the method .rdd.getNumPartitions() on a DataFrame.\n",
        "\n",
        "The spark session and two DataFrames, voter_df and voter_df_single, are available in your workspace. The instructions will help you discover the difference between the DataFrames. The pyspark.sql.functions library is available under the alias F."
      ]
    },
    {
      "cell_type": "code",
      "metadata": {
        "id": "rLVSHgE4hDtY",
        "colab_type": "code",
        "colab": {}
      },
      "source": [
        "# Print the number of partitions in each DataFrame\n",
        "print(\"\\nThere are %d partitions in the voter_df DataFrame.\\n\" % voter_df.rdd.getNumPartitions())\n",
        "print(\"\\nThere are %d partitions in the voter_df_single DataFrame.\\n\" % voter_df_single.rdd.getNumPartitions())\n",
        "\n",
        "# Add a ROW_ID field to each DataFrame\n",
        "voter_df = voter_df.withColumn('ROW_ID', F.monotonically_increasing_id())\n",
        "voter_df_single = voter_df_single.withColumn('ROW_ID', F.monotonically_increasing_id())\n",
        "\n",
        "# Show the top 10 IDs in each DataFrame \n",
        "voter_df.orderBy(voter_df.ROW_ID.desc()).show(10)\n",
        "voter_df_single.orderBy(voter_df_single.ROW_ID.desc()).show(10)"
      ],
      "execution_count": 0,
      "outputs": []
    },
    {
      "cell_type": "markdown",
      "metadata": {
        "id": "pMQesMI1hLk8",
        "colab_type": "text"
      },
      "source": [
        "## More ID tricks\n",
        "Once you define a Spark process, you'll likely want to use it many times. Depending on your needs, you may want to start your IDs at a certain value so there isn't overlap with previous runs of the Spark task. This behavior is similar to how IDs would behave in a relational database. You have been given the task to make sure that the IDs output from a monthly Spark task start at the highest value from the previous month.\n",
        "\n",
        "The spark session and two DataFrames, voter_df_march and voter_df_april, are available in your workspace. The pyspark.sql.functions library is available under the alias F."
      ]
    },
    {
      "cell_type": "code",
      "metadata": {
        "id": "7sA3VpIAhNHV",
        "colab_type": "code",
        "colab": {}
      },
      "source": [
        "# Determine the highest ROW_ID and save it in previous_max_ID\n",
        "previous_max_ID = voter_df_march.select('ROW_ID').rdd.max()[0]\n",
        "\n",
        "# Add a ROW_ID column to voter_df_april starting at the desired value\n",
        "voter_df_april = voter_df_april.withColumn('ROW_ID', F.monotonically_increasing_id() + previous_max_ID)\n",
        "\n",
        "# Show the ROW_ID from both DataFrames and compare\n",
        "voter_df_march.select('ROW_ID').show()\n",
        "voter_df_april.select('ROW_ID').show()"
      ],
      "execution_count": 0,
      "outputs": []
    }
  ]
}